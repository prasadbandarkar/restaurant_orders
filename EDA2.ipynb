{
 "cells": [
  {
   "cell_type": "code",
   "execution_count": 51,
   "metadata": {},
   "outputs": [],
   "source": [
    "import numpy as np\n",
    "import pandas as pd\n",
    "import matplotlib.pyplot as plt\n",
    "import seaborn as sns\n",
    "%matplotlib inline"
   ]
  },
  {
   "cell_type": "code",
   "execution_count": 52,
   "metadata": {},
   "outputs": [],
   "source": [
    "orders1=pd.read_csv('restaurant-1-orders.csv',parse_dates=['Order Date'],dayfirst=True)\n",
    "orders1.columns=['order_number','date','item_name','quantity','product_price','total_products']\n",
    "prices1=pd.read_csv('restaurant-1-products-price.csv')\n",
    "prices1.columns=['item_name','product_price']"
   ]
  },
  {
   "cell_type": "code",
   "execution_count": 53,
   "metadata": {},
   "outputs": [
    {
     "data": {
      "text/html": [
       "<div>\n",
       "<style scoped>\n",
       "    .dataframe tbody tr th:only-of-type {\n",
       "        vertical-align: middle;\n",
       "    }\n",
       "\n",
       "    .dataframe tbody tr th {\n",
       "        vertical-align: top;\n",
       "    }\n",
       "\n",
       "    .dataframe thead th {\n",
       "        text-align: right;\n",
       "    }\n",
       "</style>\n",
       "<table border=\"1\" class=\"dataframe\">\n",
       "  <thead>\n",
       "    <tr style=\"text-align: right;\">\n",
       "      <th></th>\n",
       "      <th>order_number</th>\n",
       "      <th>date</th>\n",
       "      <th>item_name</th>\n",
       "      <th>quantity</th>\n",
       "      <th>product_price</th>\n",
       "      <th>total_products</th>\n",
       "    </tr>\n",
       "  </thead>\n",
       "  <tbody>\n",
       "    <tr>\n",
       "      <td>0</td>\n",
       "      <td>16118</td>\n",
       "      <td>2019-08-03 20:25:00</td>\n",
       "      <td>Plain Papadum</td>\n",
       "      <td>2</td>\n",
       "      <td>0.80</td>\n",
       "      <td>6</td>\n",
       "    </tr>\n",
       "    <tr>\n",
       "      <td>1</td>\n",
       "      <td>16118</td>\n",
       "      <td>2019-08-03 20:25:00</td>\n",
       "      <td>King Prawn Balti</td>\n",
       "      <td>1</td>\n",
       "      <td>12.95</td>\n",
       "      <td>6</td>\n",
       "    </tr>\n",
       "    <tr>\n",
       "      <td>2</td>\n",
       "      <td>16118</td>\n",
       "      <td>2019-08-03 20:25:00</td>\n",
       "      <td>Garlic Naan</td>\n",
       "      <td>1</td>\n",
       "      <td>2.95</td>\n",
       "      <td>6</td>\n",
       "    </tr>\n",
       "    <tr>\n",
       "      <td>3</td>\n",
       "      <td>16118</td>\n",
       "      <td>2019-08-03 20:25:00</td>\n",
       "      <td>Mushroom Rice</td>\n",
       "      <td>1</td>\n",
       "      <td>3.95</td>\n",
       "      <td>6</td>\n",
       "    </tr>\n",
       "    <tr>\n",
       "      <td>4</td>\n",
       "      <td>16118</td>\n",
       "      <td>2019-08-03 20:25:00</td>\n",
       "      <td>Paneer Tikka Masala</td>\n",
       "      <td>1</td>\n",
       "      <td>8.95</td>\n",
       "      <td>6</td>\n",
       "    </tr>\n",
       "  </tbody>\n",
       "</table>\n",
       "</div>"
      ],
      "text/plain": [
       "   order_number                date            item_name  quantity  \\\n",
       "0         16118 2019-08-03 20:25:00        Plain Papadum         2   \n",
       "1         16118 2019-08-03 20:25:00     King Prawn Balti         1   \n",
       "2         16118 2019-08-03 20:25:00          Garlic Naan         1   \n",
       "3         16118 2019-08-03 20:25:00        Mushroom Rice         1   \n",
       "4         16118 2019-08-03 20:25:00  Paneer Tikka Masala         1   \n",
       "\n",
       "   product_price  total_products  \n",
       "0           0.80               6  \n",
       "1          12.95               6  \n",
       "2           2.95               6  \n",
       "3           3.95               6  \n",
       "4           8.95               6  "
      ]
     },
     "execution_count": 53,
     "metadata": {},
     "output_type": "execute_result"
    }
   ],
   "source": [
    "orders1.head()"
   ]
  },
  {
   "cell_type": "code",
   "execution_count": 54,
   "metadata": {},
   "outputs": [
    {
     "name": "stdout",
     "output_type": "stream",
     "text": [
      "<class 'pandas.core.frame.DataFrame'>\n",
      "RangeIndex: 248 entries, 0 to 247\n",
      "Data columns (total 2 columns):\n",
      "item_name        248 non-null object\n",
      "product_price    248 non-null float64\n",
      "dtypes: float64(1), object(1)\n",
      "memory usage: 4.0+ KB\n"
     ]
    }
   ],
   "source": [
    "prices1.info()"
   ]
  },
  {
   "cell_type": "code",
   "execution_count": 55,
   "metadata": {},
   "outputs": [],
   "source": [
    "OrderPrices=orders1.quantity.mul(orders1.product_price).groupby(orders1.order_number).sum().reset_index(name='total_price')\n",
    "orders1=orders1.merge(OrderPrices,how='left',on='order_number')"
   ]
  },
  {
   "cell_type": "code",
   "execution_count": 56,
   "metadata": {},
   "outputs": [
    {
     "data": {
      "text/html": [
       "<div>\n",
       "<style scoped>\n",
       "    .dataframe tbody tr th:only-of-type {\n",
       "        vertical-align: middle;\n",
       "    }\n",
       "\n",
       "    .dataframe tbody tr th {\n",
       "        vertical-align: top;\n",
       "    }\n",
       "\n",
       "    .dataframe thead th {\n",
       "        text-align: right;\n",
       "    }\n",
       "</style>\n",
       "<table border=\"1\" class=\"dataframe\">\n",
       "  <thead>\n",
       "    <tr style=\"text-align: right;\">\n",
       "      <th></th>\n",
       "      <th>order_number</th>\n",
       "      <th>date</th>\n",
       "      <th>item_name</th>\n",
       "      <th>quantity</th>\n",
       "      <th>product_price</th>\n",
       "      <th>total_products</th>\n",
       "      <th>total_price</th>\n",
       "    </tr>\n",
       "  </thead>\n",
       "  <tbody>\n",
       "    <tr>\n",
       "      <td>0</td>\n",
       "      <td>16118</td>\n",
       "      <td>2019-08-03 20:25:00</td>\n",
       "      <td>Plain Papadum</td>\n",
       "      <td>2</td>\n",
       "      <td>0.80</td>\n",
       "      <td>6</td>\n",
       "      <td>30.9</td>\n",
       "    </tr>\n",
       "    <tr>\n",
       "      <td>1</td>\n",
       "      <td>16118</td>\n",
       "      <td>2019-08-03 20:25:00</td>\n",
       "      <td>King Prawn Balti</td>\n",
       "      <td>1</td>\n",
       "      <td>12.95</td>\n",
       "      <td>6</td>\n",
       "      <td>30.9</td>\n",
       "    </tr>\n",
       "    <tr>\n",
       "      <td>2</td>\n",
       "      <td>16118</td>\n",
       "      <td>2019-08-03 20:25:00</td>\n",
       "      <td>Garlic Naan</td>\n",
       "      <td>1</td>\n",
       "      <td>2.95</td>\n",
       "      <td>6</td>\n",
       "      <td>30.9</td>\n",
       "    </tr>\n",
       "    <tr>\n",
       "      <td>3</td>\n",
       "      <td>16118</td>\n",
       "      <td>2019-08-03 20:25:00</td>\n",
       "      <td>Mushroom Rice</td>\n",
       "      <td>1</td>\n",
       "      <td>3.95</td>\n",
       "      <td>6</td>\n",
       "      <td>30.9</td>\n",
       "    </tr>\n",
       "    <tr>\n",
       "      <td>4</td>\n",
       "      <td>16118</td>\n",
       "      <td>2019-08-03 20:25:00</td>\n",
       "      <td>Paneer Tikka Masala</td>\n",
       "      <td>1</td>\n",
       "      <td>8.95</td>\n",
       "      <td>6</td>\n",
       "      <td>30.9</td>\n",
       "    </tr>\n",
       "  </tbody>\n",
       "</table>\n",
       "</div>"
      ],
      "text/plain": [
       "   order_number                date            item_name  quantity  \\\n",
       "0         16118 2019-08-03 20:25:00        Plain Papadum         2   \n",
       "1         16118 2019-08-03 20:25:00     King Prawn Balti         1   \n",
       "2         16118 2019-08-03 20:25:00          Garlic Naan         1   \n",
       "3         16118 2019-08-03 20:25:00        Mushroom Rice         1   \n",
       "4         16118 2019-08-03 20:25:00  Paneer Tikka Masala         1   \n",
       "\n",
       "   product_price  total_products  total_price  \n",
       "0           0.80               6         30.9  \n",
       "1          12.95               6         30.9  \n",
       "2           2.95               6         30.9  \n",
       "3           3.95               6         30.9  \n",
       "4           8.95               6         30.9  "
      ]
     },
     "execution_count": 56,
     "metadata": {},
     "output_type": "execute_result"
    }
   ],
   "source": [
    "orders1.head()"
   ]
  },
  {
   "cell_type": "code",
   "execution_count": 57,
   "metadata": {},
   "outputs": [],
   "source": [
    "ordDate=orders1.groupby('order_number')[['date','total_products','total_price']].max()"
   ]
  },
  {
   "cell_type": "code",
   "execution_count": 58,
   "metadata": {},
   "outputs": [
    {
     "data": {
      "text/html": [
       "<div>\n",
       "<style scoped>\n",
       "    .dataframe tbody tr th:only-of-type {\n",
       "        vertical-align: middle;\n",
       "    }\n",
       "\n",
       "    .dataframe tbody tr th {\n",
       "        vertical-align: top;\n",
       "    }\n",
       "\n",
       "    .dataframe thead th {\n",
       "        text-align: right;\n",
       "    }\n",
       "</style>\n",
       "<table border=\"1\" class=\"dataframe\">\n",
       "  <thead>\n",
       "    <tr style=\"text-align: right;\">\n",
       "      <th></th>\n",
       "      <th>date</th>\n",
       "      <th>total_products</th>\n",
       "      <th>total_price</th>\n",
       "    </tr>\n",
       "    <tr>\n",
       "      <th>order_number</th>\n",
       "      <th></th>\n",
       "      <th></th>\n",
       "      <th></th>\n",
       "    </tr>\n",
       "  </thead>\n",
       "  <tbody>\n",
       "    <tr>\n",
       "      <td>630</td>\n",
       "      <td>2015-09-01 14:42:00</td>\n",
       "      <td>3</td>\n",
       "      <td>3.95</td>\n",
       "    </tr>\n",
       "    <tr>\n",
       "      <td>647</td>\n",
       "      <td>2015-09-08 17:12:00</td>\n",
       "      <td>3</td>\n",
       "      <td>3.95</td>\n",
       "    </tr>\n",
       "    <tr>\n",
       "      <td>648</td>\n",
       "      <td>2015-09-08 17:31:00</td>\n",
       "      <td>1</td>\n",
       "      <td>3.95</td>\n",
       "    </tr>\n",
       "    <tr>\n",
       "      <td>651</td>\n",
       "      <td>2015-09-08 17:56:00</td>\n",
       "      <td>4</td>\n",
       "      <td>3.95</td>\n",
       "    </tr>\n",
       "    <tr>\n",
       "      <td>764</td>\n",
       "      <td>2015-09-09 09:31:00</td>\n",
       "      <td>3</td>\n",
       "      <td>3.95</td>\n",
       "    </tr>\n",
       "  </tbody>\n",
       "</table>\n",
       "</div>"
      ],
      "text/plain": [
       "                            date  total_products  total_price\n",
       "order_number                                                 \n",
       "630          2015-09-01 14:42:00               3         3.95\n",
       "647          2015-09-08 17:12:00               3         3.95\n",
       "648          2015-09-08 17:31:00               1         3.95\n",
       "651          2015-09-08 17:56:00               4         3.95\n",
       "764          2015-09-09 09:31:00               3         3.95"
      ]
     },
     "execution_count": 58,
     "metadata": {},
     "output_type": "execute_result"
    }
   ],
   "source": [
    "ordDate.head()"
   ]
  },
  {
   "cell_type": "code",
   "execution_count": 59,
   "metadata": {},
   "outputs": [
    {
     "data": {
      "text/html": [
       "<div>\n",
       "<style scoped>\n",
       "    .dataframe tbody tr th:only-of-type {\n",
       "        vertical-align: middle;\n",
       "    }\n",
       "\n",
       "    .dataframe tbody tr th {\n",
       "        vertical-align: top;\n",
       "    }\n",
       "\n",
       "    .dataframe thead th {\n",
       "        text-align: right;\n",
       "    }\n",
       "</style>\n",
       "<table border=\"1\" class=\"dataframe\">\n",
       "  <thead>\n",
       "    <tr style=\"text-align: right;\">\n",
       "      <th></th>\n",
       "      <th>order_number</th>\n",
       "      <th>date</th>\n",
       "      <th>item_name</th>\n",
       "      <th>quantity</th>\n",
       "      <th>product_price</th>\n",
       "      <th>total_products</th>\n",
       "      <th>total_price</th>\n",
       "    </tr>\n",
       "  </thead>\n",
       "  <tbody>\n",
       "    <tr>\n",
       "      <td>9285</td>\n",
       "      <td>4490</td>\n",
       "      <td>2017-02-07 17:40:00</td>\n",
       "      <td>Plain Papadum</td>\n",
       "      <td>3</td>\n",
       "      <td>0.80</td>\n",
       "      <td>8</td>\n",
       "      <td>57.7</td>\n",
       "    </tr>\n",
       "    <tr>\n",
       "      <td>14771</td>\n",
       "      <td>4490</td>\n",
       "      <td>2017-02-07 17:40:00</td>\n",
       "      <td>Plain Naan</td>\n",
       "      <td>1</td>\n",
       "      <td>2.60</td>\n",
       "      <td>8</td>\n",
       "      <td>57.7</td>\n",
       "    </tr>\n",
       "    <tr>\n",
       "      <td>37485</td>\n",
       "      <td>4490</td>\n",
       "      <td>2017-02-07 17:40:00</td>\n",
       "      <td>Special Fried Rice</td>\n",
       "      <td>1</td>\n",
       "      <td>3.95</td>\n",
       "      <td>8</td>\n",
       "      <td>57.7</td>\n",
       "    </tr>\n",
       "    <tr>\n",
       "      <td>41534</td>\n",
       "      <td>4490</td>\n",
       "      <td>2017-02-07 17:40:00</td>\n",
       "      <td>Prawn Puree</td>\n",
       "      <td>1</td>\n",
       "      <td>4.95</td>\n",
       "      <td>8</td>\n",
       "      <td>57.7</td>\n",
       "    </tr>\n",
       "    <tr>\n",
       "      <td>49423</td>\n",
       "      <td>4490</td>\n",
       "      <td>2017-02-07 17:40:00</td>\n",
       "      <td>Saag Aloo</td>\n",
       "      <td>1</td>\n",
       "      <td>5.95</td>\n",
       "      <td>8</td>\n",
       "      <td>57.7</td>\n",
       "    </tr>\n",
       "    <tr>\n",
       "      <td>73202</td>\n",
       "      <td>4490</td>\n",
       "      <td>2017-02-07 17:40:00</td>\n",
       "      <td>Tandoori Mixed Grill</td>\n",
       "      <td>1</td>\n",
       "      <td>11.95</td>\n",
       "      <td>8</td>\n",
       "      <td>57.7</td>\n",
       "    </tr>\n",
       "    <tr>\n",
       "      <td>74462</td>\n",
       "      <td>4490</td>\n",
       "      <td>2017-02-07 17:40:00</td>\n",
       "      <td>King Prawn Shaslick</td>\n",
       "      <td>1</td>\n",
       "      <td>12.95</td>\n",
       "      <td>8</td>\n",
       "      <td>57.7</td>\n",
       "    </tr>\n",
       "    <tr>\n",
       "      <td>74463</td>\n",
       "      <td>4490</td>\n",
       "      <td>2017-02-07 17:40:00</td>\n",
       "      <td>Bengal King Prawn</td>\n",
       "      <td>1</td>\n",
       "      <td>12.95</td>\n",
       "      <td>8</td>\n",
       "      <td>57.7</td>\n",
       "    </tr>\n",
       "  </tbody>\n",
       "</table>\n",
       "</div>"
      ],
      "text/plain": [
       "       order_number                date             item_name  quantity  \\\n",
       "9285           4490 2017-02-07 17:40:00         Plain Papadum         3   \n",
       "14771          4490 2017-02-07 17:40:00            Plain Naan         1   \n",
       "37485          4490 2017-02-07 17:40:00    Special Fried Rice         1   \n",
       "41534          4490 2017-02-07 17:40:00           Prawn Puree         1   \n",
       "49423          4490 2017-02-07 17:40:00             Saag Aloo         1   \n",
       "73202          4490 2017-02-07 17:40:00  Tandoori Mixed Grill         1   \n",
       "74462          4490 2017-02-07 17:40:00   King Prawn Shaslick         1   \n",
       "74463          4490 2017-02-07 17:40:00     Bengal King Prawn         1   \n",
       "\n",
       "       product_price  total_products  total_price  \n",
       "9285            0.80               8         57.7  \n",
       "14771           2.60               8         57.7  \n",
       "37485           3.95               8         57.7  \n",
       "41534           4.95               8         57.7  \n",
       "49423           5.95               8         57.7  \n",
       "73202          11.95               8         57.7  \n",
       "74462          12.95               8         57.7  \n",
       "74463          12.95               8         57.7  "
      ]
     },
     "execution_count": 59,
     "metadata": {},
     "output_type": "execute_result"
    }
   ],
   "source": [
    "orders1.loc[orders1.order_number == 4490 ]"
   ]
  },
  {
   "cell_type": "code",
   "execution_count": 60,
   "metadata": {},
   "outputs": [],
   "source": [
    "test=orders1.groupby('order_number').agg( sumcount=('quantity','sum') , count=('product_price','count'), total_products=('total_products','min') )"
   ]
  },
  {
   "cell_type": "code",
   "execution_count": 61,
   "metadata": {},
   "outputs": [
    {
     "data": {
      "text/html": [
       "<div>\n",
       "<style scoped>\n",
       "    .dataframe tbody tr th:only-of-type {\n",
       "        vertical-align: middle;\n",
       "    }\n",
       "\n",
       "    .dataframe tbody tr th {\n",
       "        vertical-align: top;\n",
       "    }\n",
       "\n",
       "    .dataframe thead th {\n",
       "        text-align: right;\n",
       "    }\n",
       "</style>\n",
       "<table border=\"1\" class=\"dataframe\">\n",
       "  <thead>\n",
       "    <tr style=\"text-align: right;\">\n",
       "      <th></th>\n",
       "      <th>order_number</th>\n",
       "      <th>date</th>\n",
       "      <th>item_name</th>\n",
       "      <th>quantity</th>\n",
       "      <th>product_price</th>\n",
       "      <th>total_products</th>\n",
       "      <th>total_price</th>\n",
       "    </tr>\n",
       "  </thead>\n",
       "  <tbody>\n",
       "    <tr>\n",
       "      <td>39151</td>\n",
       "      <td>647</td>\n",
       "      <td>2015-09-08 17:12:00</td>\n",
       "      <td>Onion Bhaji</td>\n",
       "      <td>1</td>\n",
       "      <td>3.95</td>\n",
       "      <td>3</td>\n",
       "      <td>3.95</td>\n",
       "    </tr>\n",
       "  </tbody>\n",
       "</table>\n",
       "</div>"
      ],
      "text/plain": [
       "       order_number                date    item_name  quantity  product_price  \\\n",
       "39151           647 2015-09-08 17:12:00  Onion Bhaji         1           3.95   \n",
       "\n",
       "       total_products  total_price  \n",
       "39151               3         3.95  "
      ]
     },
     "execution_count": 61,
     "metadata": {},
     "output_type": "execute_result"
    }
   ],
   "source": [
    "orders1.loc[orders1.order_number==647]"
   ]
  },
  {
   "cell_type": "code",
   "execution_count": 62,
   "metadata": {},
   "outputs": [
    {
     "data": {
      "text/plain": [
       "sumcount          6878\n",
       "count             6878\n",
       "total_products    6878\n",
       "dtype: int64"
      ]
     },
     "execution_count": 62,
     "metadata": {},
     "output_type": "execute_result"
    }
   ],
   "source": [
    "test.loc[test.sumcount != test.total_products].count()"
   ]
  },
  {
   "cell_type": "code",
   "execution_count": 63,
   "metadata": {},
   "outputs": [
    {
     "data": {
      "text/plain": [
       "order_number      74818\n",
       "date              74818\n",
       "item_name         74818\n",
       "quantity          74818\n",
       "product_price     74818\n",
       "total_products    74818\n",
       "total_price       74818\n",
       "dtype: int64"
      ]
     },
     "execution_count": 63,
     "metadata": {},
     "output_type": "execute_result"
    }
   ],
   "source": [
    "orders1.count()"
   ]
  },
  {
   "cell_type": "code",
   "execution_count": null,
   "metadata": {},
   "outputs": [],
   "source": []
  }
 ],
 "metadata": {
  "kernelspec": {
   "display_name": "Python 3",
   "language": "python",
   "name": "python3"
  },
  "language_info": {
   "codemirror_mode": {
    "name": "ipython",
    "version": 3
   },
   "file_extension": ".py",
   "mimetype": "text/x-python",
   "name": "python",
   "nbconvert_exporter": "python",
   "pygments_lexer": "ipython3",
   "version": "3.7.4"
  }
 },
 "nbformat": 4,
 "nbformat_minor": 2
}
